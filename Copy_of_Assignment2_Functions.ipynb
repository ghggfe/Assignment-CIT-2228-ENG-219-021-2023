{
  "cells": [
    {
      "cell_type": "markdown",
      "metadata": {
        "id": "view-in-github",
        "colab_type": "text"
      },
      "source": [
        "<a href=\"https://colab.research.google.com/github/ghggfe/Assignment-CIT-2228-ENG-219-021-2023/blob/main/Copy_of_Assignment2_Functions.ipynb\" target=\"_parent\"><img src=\"https://colab.research.google.com/assets/colab-badge.svg\" alt=\"Open In Colab\"/></a>"
      ]
    },
    {
      "cell_type": "markdown",
      "metadata": {
        "nbgrader": {
          "grade": false,
          "grade_id": "cell-0dc6eedbed930025",
          "locked": true,
          "schema_version": 3,
          "solution": false
        },
        "id": "3fW5OJlQsh8g"
      },
      "source": [
        "## Exercise 04.1 (simple function)\n",
        "\n",
        "Write a function called `is_even` which takes an integer as an argument and returns `True` if the argument is even, and otherwise returns `False`. Test your function for several values."
      ]
    },
    {
      "cell_type": "code",
      "execution_count": null,
      "metadata": {
        "nbgrader": {
          "grade": false,
          "grade_id": "cell-f07e8ac1f9838913",
          "locked": false,
          "schema_version": 3,
          "solution": true
        },
        "tags": [],
        "id": "EsncudILsh8m",
        "colab": {
          "base_uri": "https://localhost:8080/"
        },
        "outputId": "216485c8-ba4d-45a4-8376-403eeff2a84a"
      },
      "outputs": [
        {
          "output_type": "stream",
          "name": "stdout",
          "text": [
            "True\n",
            "False\n"
          ]
        }
      ],
      "source": [
        "def is_even(x):\n",
        "    if x % 2 == 0:\n",
        "        return True\n",
        "    else:\n",
        "        return False\n",
        "\n",
        "print(is_even(4))\n",
        "print(is_even(7))"
      ]
    },
    {
      "cell_type": "markdown",
      "metadata": {
        "nbgrader": {
          "grade": false,
          "grade_id": "cell-5ff5517961853849",
          "locked": true,
          "schema_version": 3,
          "solution": false
        },
        "id": "o6E1_RYrsh8p"
      },
      "source": [
        "## Exercise 04.2 (functions and default arguments)\n",
        "\n",
        "Write a single function named `magnitude` that takes each component of a vector of length 2 or 3 and returns the magnitude.\n",
        "Use default arguments to handle vectors of length 2 or 3 with the same code. Test your function for correctness against hand calculations for a selection of values."
      ]
    },
    {
      "cell_type": "code",
      "execution_count": null,
      "metadata": {
        "nbgrader": {
          "grade": false,
          "grade_id": "cell-693a09b45c6bb532",
          "locked": false,
          "schema_version": 3,
          "solution": true
        },
        "tags": [],
        "id": "ZZo0oTFesh8p",
        "colab": {
          "base_uri": "https://localhost:8080/"
        },
        "outputId": "7a8f25c1-1e50-40b9-a543-bc1dd26c6112"
      },
      "outputs": [
        {
          "output_type": "stream",
          "name": "stdout",
          "text": [
            "3.605551275463989\n"
          ]
        }
      ],
      "source": [
        "def magnitude(x, y,z=0):\n",
        "    return (x**2 + y**2 + z**2)**(1/2)\n",
        "\n",
        "print(magnitude(2,3))"
      ]
    },
    {
      "cell_type": "markdown",
      "metadata": {
        "nbgrader": {
          "grade": false,
          "grade_id": "cell-668d765c259431ca",
          "locked": true,
          "schema_version": 3,
          "solution": false
        },
        "id": "rLvbuk7nsh8r"
      },
      "source": [
        "## Exercise 04.3 (functions)\n",
        "\n",
        "Given the coordinates of the vertices of a triangle, $(x_0, y_0)$, $(x_1, y_1)$ and $(x_2, y_2)$, the area $A$ of the triangle is given by:\n",
        "$$\n",
        "A = \\left| \\frac{x_0(y_1  - y_2) + x_1(y_2 - y_0) + x_2(y_0 - y_1)}{2} \\right|\n",
        "$$\n",
        "Write a function named `area` that computes the area of a triangle given the coordinates of the vertices.\n",
        "The order of the function arguments must be (`x0, y0, x1, y1, x2, y2)`.\n",
        "\n",
        "Test the output of your function against some known solutions."
      ]
    },
    {
      "cell_type": "code",
      "source": [
        "def area(x0, y0, x1, y1, x2, y2):\n",
        "    return abs((x0 * (y1-y2) + x1 * (y2-y0) + x2 * (y0-y1))/2)\n",
        "\n",
        "print(area(0, 0, 1, 3, 2, 4))"
      ],
      "metadata": {
        "colab": {
          "base_uri": "https://localhost:8080/"
        },
        "id": "bU1keESumtLm",
        "outputId": "4cc75ad5-5039-40d9-f8dc-aeec6ae1ef03"
      },
      "execution_count": null,
      "outputs": [
        {
          "output_type": "stream",
          "name": "stdout",
          "text": [
            "1.0\n"
          ]
        }
      ]
    },
    {
      "cell_type": "markdown",
      "metadata": {
        "nbgrader": {
          "grade": false,
          "grade_id": "cell-45e85991122d3796",
          "locked": true,
          "schema_version": 3,
          "solution": false
        },
        "id": "jb-JoQHzsh8s"
      },
      "source": [
        "## Exercise 04.4 (recursion)\n",
        "\n",
        "The factorial of a non-negative integer $n$ is expressed recursively by:\n",
        "$$\n",
        "n! =\n",
        "\\begin{cases}\n",
        "1 & n = 0 \\\\\n",
        "(n - 1)! \\,n & n > 0\n",
        "\\end{cases}\n",
        "$$\n",
        "\n",
        "Develop a function named `factorial` for computing the factorial using recursion.\n",
        "Test your function against the `math.factorial` function, e.g."
      ]
    },
    {
      "cell_type": "code",
      "execution_count": 1,
      "metadata": {
        "nbgrader": {
          "grade": false,
          "grade_id": "cell-680d3c06fd6b37a7",
          "locked": true,
          "schema_version": 3,
          "solution": false
        },
        "id": "RRMXyZpqsh8s",
        "colab": {
          "base_uri": "https://localhost:8080/"
        },
        "outputId": "5e3f53c1-ef03-4126-a973-549aa71dc797"
      },
      "outputs": [
        {
          "output_type": "stream",
          "name": "stdout",
          "text": [
            "The factorial of 4 is 24\n"
          ]
        }
      ],
      "source": [
        "def factorial(n):\n",
        "    if n == 0:\n",
        "        return 1\n",
        "    else:\n",
        "        return n * factorial(n - 1)\n",
        "\n",
        "print(\"The factorial of 4 is\", factorial(4))"
      ]
    },
    {
      "cell_type": "markdown",
      "metadata": {
        "id": "ZtsafLq0sh8u"
      },
      "source": [
        "## Exercise 04.5 (functions and passing functions as arguments)\n",
        "\n",
        "Restructure your program from the bisection problem in Exercise 02 to\n",
        "\n",
        "- Use a Python function to evaluate the mathematical function $f$ that we want to find the root of;\n",
        "\n",
        "and then\n",
        "\n",
        "- Encapsulate the bisection algorithm inside a Python function, which takes as arguments:\n",
        "  1. the function we want to find the roots of\n",
        "  1. the points $x_{0}$ and $x_{1}$ between which we want to search for a root\n",
        "  1. the tolerance for exiting the bisection algorithm (exit when $|f(x)| < \\text{tol}$)\n",
        "  1. maximum number of iterations (the algorithm should exit once this limit is reached)\n",
        "\n",
        "For the first step, create a Python function for evaluating $f$, e.g.:z\n",
        "```python\n",
        "def f(x):\n",
        "    # Put body of the function f(x) here, returning the function value\n",
        "```           \n",
        "For the second step, encapsulate the bisection algorithm in a function:\n",
        "```python\n",
        "def compute_root(f, x0, x1, tol, max_it):\n",
        "\n",
        "    # Implement bisection algorithm here, and return when tolerance is satisfied or\n",
        "    # number of iterations exceeds max_it\n",
        "\n",
        "    # Return the approximate root, value of f(x) and the number of iterations\n",
        "    return x, f, num_it\n",
        "\n",
        "# Compute approximate root of the function f\n",
        "x, f_x, num_it = compute_root(f, x0=0, x1=1, tol=1.0e-6, max_it=1000)\n",
        "```\n",
        "\n",
        "You can try testing your program for a function $f(x)$ that is simpler from the function Exercise 02, e.g. $f(x) = x - 4$.\n",
        "A quadratic function, the roots of which you can find analytically, would be a good test case."
      ]
    },
    {
      "cell_type": "markdown",
      "metadata": {
        "id": "KBtGgIuJsh8u"
      },
      "source": [
        "### Solution\n",
        "\n",
        "Define the function for computing $f(x)$:"
      ]
    },
    {
      "cell_type": "code",
      "execution_count": 2,
      "metadata": {
        "nbgrader": {
          "grade": false,
          "grade_id": "cell-a9cacdc8d223e7a4",
          "locked": true,
          "schema_version": 3,
          "solution": false
        },
        "tags": [],
        "id": "MAAoORXXsh8v"
      },
      "outputs": [],
      "source": [
        "def my_f(x):\n",
        "    \"\"\"Evaluate polynomial function\"\"\"\n",
        "    return x**5 / 10 + x**3 - 10 * x**2 + 4 * x + 7"
      ]
    },
    {
      "cell_type": "code",
      "execution_count": null,
      "metadata": {
        "nbgrader": {
          "grade": false,
          "grade_id": "cell-622edcb129dcc7f2",
          "locked": false,
          "schema_version": 3,
          "solution": true
        },
        "tags": [],
        "id": "Z8qQHcjgsh8v"
      },
      "outputs": [],
      "source": [
        "def compute_root(f, x0, x1, tol, max_it):\n",
        "    num_iterations = 0\n",
        "    f_mid = float('inf')  # Initialize f_mid to a large value\n",
        "    while abs(f_mid) > tol and num_iterations < max_it:\n",
        "        x_mid = (x0 + x1) / 2\n",
        "        f_mid = f(x_mid)\n",
        "\n",
        "        # The condition was incorrect in the original code\n",
        "        # The if condition should check for the interval where the root lies\n",
        "        if f(x0) * f_mid < 0:\n",
        "            x1 = x_mid\n",
        "        else:\n",
        "            x0 = x_mid\n",
        "        num_iterations += 1\n",
        "    return x_mid, f_mid, num_iterations"
      ]
    },
    {
      "cell_type": "code",
      "execution_count": null,
      "metadata": {
        "nbgrader": {
          "grade": true,
          "grade_id": "cell-cb5a5cdf1d790edb",
          "locked": true,
          "points": 0,
          "schema_version": 3,
          "solution": false
        },
        "id": "obOcikedsh8v"
      },
      "outputs": [],
      "source": [
        "## tests ##\n",
        "import math\n",
        "x, f, num_it = compute_root(my_f, x0=0, x1=2, tol=1.0e-6, max_it=1000)\n",
        "\n",
        "# Test solution for function in Exercise 02\n",
        "assert math.isclose(x, 1.1568354368209839)"
      ]
    },
    {
      "cell_type": "markdown",
      "metadata": {
        "id": "JhGnQvVWsh8w"
      },
      "source": [
        "#### Optional extension\n",
        "\n",
        "Use recursion to write a `compute_root` function that *does not* require a `for` or `while` loop."
      ]
    },
    {
      "cell_type": "code",
      "execution_count": null,
      "metadata": {
        "nbgrader": {
          "grade": false,
          "grade_id": "cell-c944bb2229317d4d",
          "locked": false,
          "schema_version": 3,
          "solution": true
        },
        "tags": [],
        "id": "akULHpDZsh8w"
      },
      "outputs": [],
      "source": [
        "def compute_root(f, x0, x1, tol, max_it, it_count=0):\n",
        "    x_mid = (x0 + x1) / 2\n",
        "    f_mid = f(x_mid)\n",
        "\n",
        "    if abs(f_mid) <= tol or it_count >= max_it:\n",
        "        return x_mid, f_mid, it_count  # Base case: tolerance or max iterations reached\n",
        "\n",
        "    it_count += 1\n",
        "\n",
        "    if f(x0) * f_mid < 0:\n",
        "        return compute_root(f, x0, x_mid, tol, max_it, it_count) # Recursive call\n",
        "    else:\n",
        "        return compute_root(f, x_mid, x1, tol, max_it, it_count) # Recursive call"
      ]
    },
    {
      "cell_type": "code",
      "execution_count": 3,
      "metadata": {
        "nbgrader": {
          "grade": true,
          "grade_id": "cell-9ebe2f13b2899a8f",
          "locked": true,
          "points": 0,
          "schema_version": 3,
          "solution": false
        },
        "id": "slTONLU0sh8x",
        "colab": {
          "base_uri": "https://localhost:8080/",
          "height": 332
        },
        "outputId": "475b52b2-336d-4bb8-ba53-1cd26af3f313"
      },
      "outputs": [
        {
          "output_type": "error",
          "ename": "NameError",
          "evalue": "name 'compute_root' is not defined",
          "traceback": [
            "\u001b[0;31m---------------------------------------------------------------------------\u001b[0m",
            "\u001b[0;31mNameError\u001b[0m                                 Traceback (most recent call last)",
            "\u001b[0;32m<ipython-input-3-a79e11930662>\u001b[0m in \u001b[0;36m<cell line: 0>\u001b[0;34m()\u001b[0m\n\u001b[1;32m      1\u001b[0m \u001b[0;31m## tests ##\u001b[0m\u001b[0;34m\u001b[0m\u001b[0;34m\u001b[0m\u001b[0m\n\u001b[0;32m----> 2\u001b[0;31m \u001b[0mx\u001b[0m\u001b[0;34m,\u001b[0m \u001b[0mf\u001b[0m\u001b[0;34m,\u001b[0m \u001b[0mnum_it\u001b[0m \u001b[0;34m=\u001b[0m \u001b[0mcompute_root\u001b[0m\u001b[0;34m(\u001b[0m\u001b[0mmy_f\u001b[0m\u001b[0;34m,\u001b[0m \u001b[0mx0\u001b[0m\u001b[0;34m=\u001b[0m\u001b[0;36m0\u001b[0m\u001b[0;34m,\u001b[0m \u001b[0mx1\u001b[0m\u001b[0;34m=\u001b[0m\u001b[0;36m2\u001b[0m\u001b[0;34m,\u001b[0m \u001b[0mtol\u001b[0m\u001b[0;34m=\u001b[0m\u001b[0;36m1.0e-6\u001b[0m\u001b[0;34m,\u001b[0m \u001b[0mmax_it\u001b[0m\u001b[0;34m=\u001b[0m\u001b[0;36m1000\u001b[0m\u001b[0;34m)\u001b[0m\u001b[0;34m\u001b[0m\u001b[0;34m\u001b[0m\u001b[0m\n\u001b[0m\u001b[1;32m      3\u001b[0m \u001b[0;32massert\u001b[0m \u001b[0mmath\u001b[0m\u001b[0;34m.\u001b[0m\u001b[0misclose\u001b[0m\u001b[0;34m(\u001b[0m\u001b[0mx\u001b[0m\u001b[0;34m,\u001b[0m \u001b[0;36m1.1568354368209839\u001b[0m\u001b[0;34m)\u001b[0m\u001b[0;34m\u001b[0m\u001b[0;34m\u001b[0m\u001b[0m\n",
            "\u001b[0;31mNameError\u001b[0m: name 'compute_root' is not defined"
          ]
        }
      ],
      "source": [
        "## tests ##\n",
        "x, f, num_it = compute_root(my_f, x0=0, x1=2, tol=1.0e-6, max_it=1000)\n",
        "assert math.isclose(x, 1.1568354368209839)"
      ]
    }
  ],
  "metadata": {
    "celltoolbar": "Create Assignment",
    "kernelspec": {
      "display_name": "Python 3 (ipykernel)",
      "language": "python",
      "name": "python3"
    },
    "language_info": {
      "codemirror_mode": {
        "name": "ipython",
        "version": 3
      },
      "file_extension": ".py",
      "mimetype": "text/x-python",
      "name": "python",
      "nbconvert_exporter": "python",
      "pygments_lexer": "ipython3",
      "version": "3.10.6"
    },
    "otter": {
      "OK_FORMAT": true,
      "assignment_name": "Exercises 4",
      "tests": {}
    },
    "colab": {
      "provenance": [],
      "include_colab_link": true
    }
  },
  "nbformat": 4,
  "nbformat_minor": 0
}