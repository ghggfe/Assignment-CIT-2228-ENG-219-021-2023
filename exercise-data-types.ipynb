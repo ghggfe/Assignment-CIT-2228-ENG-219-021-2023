{
 "cells": [
  {
   "cell_type": "markdown",
   "id": "60b4ea1c",
   "metadata": {
    "papermill": {
     "duration": 0.006066,
     "end_time": "2025-02-26T06:08:17.203961",
     "exception": false,
     "start_time": "2025-02-26T06:08:17.197895",
     "status": "completed"
    },
    "tags": []
   },
   "source": [
    "**This notebook is an exercise in the [Intro to Programming](https://www.kaggle.com/learn/intro-to-programming) course.  You can reference the tutorial at [this link](https://www.kaggle.com/alexisbcook/data-types).**\n",
    "\n",
    "---\n"
   ]
  },
  {
   "cell_type": "markdown",
   "id": "34a41e58",
   "metadata": {
    "papermill": {
     "duration": 0.005095,
     "end_time": "2025-02-26T06:08:17.214710",
     "exception": false,
     "start_time": "2025-02-26T06:08:17.209615",
     "status": "completed"
    },
    "tags": []
   },
   "source": [
    "In the tutorial, you learned about four different data types: floats, integers, strings, and booleans.  In this exercise, you'll experiment with them.\n",
    "\n",
    "# Set up the notebook\n",
    "\n",
    "Run the next code cell without changes to set up the notebook."
   ]
  },
  {
   "cell_type": "code",
   "execution_count": 1,
   "id": "506b62bb",
   "metadata": {
    "execution": {
     "iopub.execute_input": "2025-02-26T06:08:17.226769Z",
     "iopub.status.busy": "2025-02-26T06:08:17.226388Z",
     "iopub.status.idle": "2025-02-26T06:08:18.244905Z",
     "shell.execute_reply": "2025-02-26T06:08:18.243667Z"
    },
    "papermill": {
     "duration": 1.027098,
     "end_time": "2025-02-26T06:08:18.247124",
     "exception": false,
     "start_time": "2025-02-26T06:08:17.220026",
     "status": "completed"
    },
    "tags": []
   },
   "outputs": [
    {
     "name": "stdout",
     "output_type": "stream",
     "text": [
      "Setup complete.\n"
     ]
    }
   ],
   "source": [
    "# Set up the exercise\n",
    "from learntools.core import binder\n",
    "binder.bind(globals())\n",
    "from learntools.intro_to_programming.ex3 import *\n",
    "print('Setup complete.')"
   ]
  },
  {
   "cell_type": "markdown",
   "id": "c3ab16ee",
   "metadata": {
    "papermill": {
     "duration": 0.005266,
     "end_time": "2025-02-26T06:08:18.258454",
     "exception": false,
     "start_time": "2025-02-26T06:08:18.253188",
     "status": "completed"
    },
    "tags": []
   },
   "source": [
    "# Question 1\n",
    "\n",
    "You have seen how to convert a float to an integer with the `int` function.  Try this out yourself by running the code cell below."
   ]
  },
  {
   "cell_type": "code",
   "execution_count": 2,
   "id": "507b76c4",
   "metadata": {
    "execution": {
     "iopub.execute_input": "2025-02-26T06:08:18.270945Z",
     "iopub.status.busy": "2025-02-26T06:08:18.270396Z",
     "iopub.status.idle": "2025-02-26T06:08:18.276340Z",
     "shell.execute_reply": "2025-02-26T06:08:18.275219Z"
    },
    "papermill": {
     "duration": 0.013982,
     "end_time": "2025-02-26T06:08:18.277974",
     "exception": false,
     "start_time": "2025-02-26T06:08:18.263992",
     "status": "completed"
    },
    "tags": []
   },
   "outputs": [
    {
     "name": "stdout",
     "output_type": "stream",
     "text": [
      "1.0\n",
      "<class 'float'>\n",
      "1\n",
      "<class 'int'>\n"
     ]
    }
   ],
   "source": [
    "# Define a float\n",
    "y = 1.\n",
    "print(y)\n",
    "print(type(y))\n",
    "\n",
    "# Convert float to integer with the int function\n",
    "z = int(y)\n",
    "print(z)\n",
    "print(type(z))"
   ]
  },
  {
   "cell_type": "markdown",
   "id": "05f9040f",
   "metadata": {
    "papermill": {
     "duration": 0.005139,
     "end_time": "2025-02-26T06:08:18.288786",
     "exception": false,
     "start_time": "2025-02-26T06:08:18.283647",
     "status": "completed"
    },
    "tags": []
   },
   "source": [
    "In this case, the float you are using has no numbers after the decimal.  \n",
    "- But what happens when you try to convert a float with a fractional part to an integer?  \n",
    "- How does the outcome of the `int` function change for positive and negative numbers?\n",
    "\n",
    "Use the next code cell to investigate and answer these questions.  Feel free to add or remove any lines of code -- it is your workspace!"
   ]
  },
  {
   "cell_type": "code",
   "execution_count": 3,
   "id": "18220f9e",
   "metadata": {
    "execution": {
     "iopub.execute_input": "2025-02-26T06:08:18.301087Z",
     "iopub.status.busy": "2025-02-26T06:08:18.300670Z",
     "iopub.status.idle": "2025-02-26T06:08:18.306385Z",
     "shell.execute_reply": "2025-02-26T06:08:18.305286Z"
    },
    "papermill": {
     "duration": 0.013783,
     "end_time": "2025-02-26T06:08:18.308130",
     "exception": false,
     "start_time": "2025-02-26T06:08:18.294347",
     "status": "completed"
    },
    "tags": []
   },
   "outputs": [
    {
     "name": "stdout",
     "output_type": "stream",
     "text": [
      "1\n",
      "1\n",
      "-3\n",
      "-2\n"
     ]
    }
   ],
   "source": [
    "# Uncomment and run this code to get started!\n",
    "print(int(1.2321))\n",
    "print(int(1.747))\n",
    "print(int(-3.94535))\n",
    "print(int(-2.19774))"
   ]
  },
  {
   "cell_type": "markdown",
   "id": "01306c98",
   "metadata": {
    "papermill": {
     "duration": 0.005226,
     "end_time": "2025-02-26T06:08:18.319006",
     "exception": false,
     "start_time": "2025-02-26T06:08:18.313780",
     "status": "completed"
    },
    "tags": []
   },
   "source": [
    "Once you have an answer, run the code cell below to see the solution.  Viewing the solution will give you credit for answering the problem."
   ]
  },
  {
   "cell_type": "code",
   "execution_count": 4,
   "id": "f4255980",
   "metadata": {
    "execution": {
     "iopub.execute_input": "2025-02-26T06:08:18.331271Z",
     "iopub.status.busy": "2025-02-26T06:08:18.330934Z",
     "iopub.status.idle": "2025-02-26T06:08:18.339339Z",
     "shell.execute_reply": "2025-02-26T06:08:18.338249Z"
    },
    "papermill": {
     "duration": 0.016863,
     "end_time": "2025-02-26T06:08:18.341338",
     "exception": false,
     "start_time": "2025-02-26T06:08:18.324475",
     "status": "completed"
    },
    "tags": []
   },
   "outputs": [
    {
     "data": {
      "application/javascript": [
       "parent.postMessage({\"jupyterEvent\": \"custom.exercise_interaction\", \"data\": {\"outcomeType\": 1, \"valueTowardsCompletion\": 0.2, \"interactionType\": 1, \"questionType\": 4, \"questionId\": \"1_FloatToInt\", \"learnToolsVersion\": \"0.3.4\", \"failureMessage\": \"\", \"exceptionClass\": \"\", \"trace\": \"\"}}, \"*\")"
      ],
      "text/plain": [
       "<IPython.core.display.Javascript object>"
      ]
     },
     "metadata": {},
     "output_type": "display_data"
    },
    {
     "data": {
      "text/markdown": [
       "<span style=\"color:#33cc33\">Correct:</span> \n",
       "\n",
       "Negative floats are always rounded UP to the closest integer (for instance, both -1.1 and -1.9 are rounded up to -1). Positive floats are always rounded DOWN to the closest integer (for instance, 2.1 and 2.9 are rounded down to 2)."
      ],
      "text/plain": [
       "Correct: \n",
       "\n",
       "Negative floats are always rounded UP to the closest integer (for instance, both -1.1 and -1.9 are rounded up to -1). Positive floats are always rounded DOWN to the closest integer (for instance, 2.1 and 2.9 are rounded down to 2)."
      ]
     },
     "metadata": {},
     "output_type": "display_data"
    }
   ],
   "source": [
    "# Check your answer (Run this code cell to receive credit!)\n",
    "q1.check()"
   ]
  },
  {
   "cell_type": "markdown",
   "id": "58055566",
   "metadata": {
    "papermill": {
     "duration": 0.005438,
     "end_time": "2025-02-26T06:08:18.352800",
     "exception": false,
     "start_time": "2025-02-26T06:08:18.347362",
     "status": "completed"
    },
    "tags": []
   },
   "source": [
    "# Question 2\n",
    "\n",
    "In the tutorial, you learned about booleans (which can take a value of `True` or `False`), in addition to integers, floats, and strings.  For this question, your goal is to determine what happens when you multiply a boolean by any of these data types.  Specifically, \n",
    "- What happens when you multiply an integer or float by `True`?  What happens when you multiply them by `False`?  How does the answer change if the numbers are positive or negative?\n",
    "- What happens when you multiply a string by `True`?  By `False`?\n",
    "\n",
    "Use the next code cell for your investigation. "
   ]
  },
  {
   "cell_type": "code",
   "execution_count": 5,
   "id": "74daa276",
   "metadata": {
    "execution": {
     "iopub.execute_input": "2025-02-26T06:08:18.366226Z",
     "iopub.status.busy": "2025-02-26T06:08:18.365874Z",
     "iopub.status.idle": "2025-02-26T06:08:18.371712Z",
     "shell.execute_reply": "2025-02-26T06:08:18.370481Z"
    },
    "papermill": {
     "duration": 0.014103,
     "end_time": "2025-02-26T06:08:18.373248",
     "exception": false,
     "start_time": "2025-02-26T06:08:18.359145",
     "status": "completed"
    },
    "tags": []
   },
   "outputs": [
    {
     "name": "stdout",
     "output_type": "stream",
     "text": [
      "3\n",
      "-3.1\n",
      "<class 'str'>\n",
      "0\n"
     ]
    }
   ],
   "source": [
    "# Uncomment and run this code to get started!\n",
    "print(3 * True)\n",
    "print(-3.1 * True)\n",
    "print(type(\"abc\" * False))\n",
    "print(len(\"abc\" * False))"
   ]
  },
  {
   "cell_type": "markdown",
   "id": "b60c2b08",
   "metadata": {
    "papermill": {
     "duration": 0.006437,
     "end_time": "2025-02-26T06:08:18.385723",
     "exception": false,
     "start_time": "2025-02-26T06:08:18.379286",
     "status": "completed"
    },
    "tags": []
   },
   "source": [
    "Once you have an answer, run the code cell below to see the solution.  Viewing the solution will give you credit for answering the problem."
   ]
  },
  {
   "cell_type": "code",
   "execution_count": 6,
   "id": "4b9c6091",
   "metadata": {
    "execution": {
     "iopub.execute_input": "2025-02-26T06:08:18.398911Z",
     "iopub.status.busy": "2025-02-26T06:08:18.398406Z",
     "iopub.status.idle": "2025-02-26T06:08:18.406793Z",
     "shell.execute_reply": "2025-02-26T06:08:18.405669Z"
    },
    "papermill": {
     "duration": 0.017033,
     "end_time": "2025-02-26T06:08:18.408691",
     "exception": false,
     "start_time": "2025-02-26T06:08:18.391658",
     "status": "completed"
    },
    "tags": []
   },
   "outputs": [
    {
     "data": {
      "application/javascript": [
       "parent.postMessage({\"jupyterEvent\": \"custom.exercise_interaction\", \"data\": {\"outcomeType\": 1, \"valueTowardsCompletion\": 0.2, \"interactionType\": 1, \"questionType\": 4, \"questionId\": \"2_MultiplyBooleans\", \"learnToolsVersion\": \"0.3.4\", \"failureMessage\": \"\", \"exceptionClass\": \"\", \"trace\": \"\"}}, \"*\")"
      ],
      "text/plain": [
       "<IPython.core.display.Javascript object>"
      ]
     },
     "metadata": {},
     "output_type": "display_data"
    },
    {
     "data": {
      "text/markdown": [
       "<span style=\"color:#33cc33\">Correct:</span> \n",
       "\n",
       "When you multiple an integer or float by a boolean with value `True`, it just returns that same integer or float (and is equivalent to multiplying by 1).  If you multiply an integer or float by a boolean with value `False`, it always returns 0.  This is true for both positive and negative numbers.  If you multiply a string by a boolean with value `True`, it just returns that same string.  And if you multiply a string by a boolean with value `False`, it returns an empty string (or a string with length zero)."
      ],
      "text/plain": [
       "Correct: \n",
       "\n",
       "When you multiple an integer or float by a boolean with value `True`, it just returns that same integer or float (and is equivalent to multiplying by 1).  If you multiply an integer or float by a boolean with value `False`, it always returns 0.  This is true for both positive and negative numbers.  If you multiply a string by a boolean with value `True`, it just returns that same string.  And if you multiply a string by a boolean with value `False`, it returns an empty string (or a string with length zero)."
      ]
     },
     "metadata": {},
     "output_type": "display_data"
    }
   ],
   "source": [
    "# Check your answer (Run this code cell to receive credit!)\n",
    "q2.check()"
   ]
  },
  {
   "cell_type": "markdown",
   "id": "c2f54c9f",
   "metadata": {
    "papermill": {
     "duration": 0.006096,
     "end_time": "2025-02-26T06:08:18.421698",
     "exception": false,
     "start_time": "2025-02-26T06:08:18.415602",
     "status": "completed"
    },
    "tags": []
   },
   "source": [
    "# Question 3\n",
    "\n",
    "In this question, you will build off your work from the previous exercise to write a function that estimates the value of a house.\n",
    "\n",
    "Use the next code cell to create a function `get_expected_cost` that takes as input three variables:\n",
    "- `beds` - number of bedrooms (data type float)\n",
    "- `baths` - number of bathrooms (data type float)\n",
    "- `has_basement` - whether or not the house has a basement (data type boolean)\n",
    "\n",
    "It should return the expected cost of a house with those characteristics. Assume that:\n",
    "- the expected cost for a house with 0 bedrooms and 0 bathrooms, and no basement is 80000, \n",
    "- each bedroom adds 30000 to the expected cost,\n",
    "- each bathroom adds 10000 to the expected cost, and\n",
    "- a basement adds 40000 to the expected cost.\n",
    "\n",
    "For instance,\n",
    "- a house with 1 bedroom, 1 bathroom, and no basement has an expected cost of 80000 + 30000 + 10000 = 120000.  This value will be calculated with `get_expected_cost(1, 1, False)`.\n",
    "- a house with 2 bedrooms, 1 bathroom, and a basement has an expected cost of 80000 + 2*30000 + 10000 + 40000 = 190000.  This value will be calculated with `get_expected_cost(2, 1, True)`.\n",
    "\n",
    "Remember you can always get a hint by uncommenting `q3.hint()` in the code cell following the next!"
   ]
  },
  {
   "cell_type": "code",
   "execution_count": 7,
   "id": "416d6a2f",
   "metadata": {
    "execution": {
     "iopub.execute_input": "2025-02-26T06:08:18.435495Z",
     "iopub.status.busy": "2025-02-26T06:08:18.435113Z",
     "iopub.status.idle": "2025-02-26T06:08:18.443234Z",
     "shell.execute_reply": "2025-02-26T06:08:18.442201Z"
    },
    "papermill": {
     "duration": 0.017122,
     "end_time": "2025-02-26T06:08:18.445147",
     "exception": false,
     "start_time": "2025-02-26T06:08:18.428025",
     "status": "completed"
    },
    "tags": []
   },
   "outputs": [
    {
     "data": {
      "application/javascript": [
       "parent.postMessage({\"jupyterEvent\": \"custom.exercise_interaction\", \"data\": {\"outcomeType\": 1, \"valueTowardsCompletion\": 0.2, \"interactionType\": 1, \"questionType\": 2, \"questionId\": \"3_EstimateHouseValueBool\", \"learnToolsVersion\": \"0.3.4\", \"failureMessage\": \"\", \"exceptionClass\": \"\", \"trace\": \"\"}}, \"*\")"
      ],
      "text/plain": [
       "<IPython.core.display.Javascript object>"
      ]
     },
     "metadata": {},
     "output_type": "display_data"
    },
    {
     "data": {
      "text/markdown": [
       "<span style=\"color:#33cc33\">Correct</span>"
      ],
      "text/plain": [
       "Correct"
      ]
     },
     "metadata": {},
     "output_type": "display_data"
    }
   ],
   "source": [
    "# TODO: Complete the function\n",
    "def get_expected_cost(beds, baths, has_basement):\n",
    "    value = 80000 + 30000 * beds + 10000 * baths + 40000 * has_basement\n",
    "    return value\n",
    "\n",
    "# Check your answer \n",
    "q3.check()"
   ]
  },
  {
   "cell_type": "code",
   "execution_count": 8,
   "id": "429c9303",
   "metadata": {
    "execution": {
     "iopub.execute_input": "2025-02-26T06:08:18.459741Z",
     "iopub.status.busy": "2025-02-26T06:08:18.459322Z",
     "iopub.status.idle": "2025-02-26T06:08:18.463441Z",
     "shell.execute_reply": "2025-02-26T06:08:18.462207Z"
    },
    "papermill": {
     "duration": 0.013382,
     "end_time": "2025-02-26T06:08:18.465381",
     "exception": false,
     "start_time": "2025-02-26T06:08:18.451999",
     "status": "completed"
    },
    "tags": []
   },
   "outputs": [],
   "source": [
    "# Uncomment to see a hint\n",
    "#q3.hint()\n",
    "\n",
    "# Uncomment to view the solution\n",
    "#q3.solution()"
   ]
  },
  {
   "cell_type": "markdown",
   "id": "037b1aa9",
   "metadata": {
    "papermill": {
     "duration": 0.00602,
     "end_time": "2025-02-26T06:08:18.477880",
     "exception": false,
     "start_time": "2025-02-26T06:08:18.471860",
     "status": "completed"
    },
    "tags": []
   },
   "source": [
    "# Question 4\n",
    "\n",
    "We'll continue our study of boolean arithmetic.  For this question, your task is to provide a description of what happpens when you add booleans. \n",
    "\n",
    "Use the next code cell for your investigation.  Feel free to add or remove any lines of code - use it as your workspace!"
   ]
  },
  {
   "cell_type": "code",
   "execution_count": 9,
   "id": "eeb3c4ee",
   "metadata": {
    "execution": {
     "iopub.execute_input": "2025-02-26T06:08:18.491693Z",
     "iopub.status.busy": "2025-02-26T06:08:18.491269Z",
     "iopub.status.idle": "2025-02-26T06:08:18.497413Z",
     "shell.execute_reply": "2025-02-26T06:08:18.496187Z"
    },
    "papermill": {
     "duration": 0.014941,
     "end_time": "2025-02-26T06:08:18.499168",
     "exception": false,
     "start_time": "2025-02-26T06:08:18.484227",
     "status": "completed"
    },
    "tags": []
   },
   "outputs": [
    {
     "name": "stdout",
     "output_type": "stream",
     "text": [
      "0\n",
      "1\n",
      "1\n",
      "2\n",
      "3\n"
     ]
    }
   ],
   "source": [
    "print(False + False)\n",
    "print(True + False)\n",
    "print(False + True)\n",
    "print(True + True)\n",
    "print(False + True + True + True)"
   ]
  },
  {
   "cell_type": "markdown",
   "id": "012b088f",
   "metadata": {
    "papermill": {
     "duration": 0.006262,
     "end_time": "2025-02-26T06:08:18.512004",
     "exception": false,
     "start_time": "2025-02-26T06:08:18.505742",
     "status": "completed"
    },
    "tags": []
   },
   "source": [
    "Once you have an answer, run the code cell below to see the solution.  Viewing the solution will give you credit for answering the problem."
   ]
  },
  {
   "cell_type": "code",
   "execution_count": 10,
   "id": "8e4f1723",
   "metadata": {
    "execution": {
     "iopub.execute_input": "2025-02-26T06:08:18.527712Z",
     "iopub.status.busy": "2025-02-26T06:08:18.527328Z",
     "iopub.status.idle": "2025-02-26T06:08:18.534765Z",
     "shell.execute_reply": "2025-02-26T06:08:18.533851Z"
    },
    "papermill": {
     "duration": 0.016649,
     "end_time": "2025-02-26T06:08:18.536522",
     "exception": false,
     "start_time": "2025-02-26T06:08:18.519873",
     "status": "completed"
    },
    "tags": []
   },
   "outputs": [
    {
     "data": {
      "application/javascript": [
       "parent.postMessage({\"jupyterEvent\": \"custom.exercise_interaction\", \"data\": {\"outcomeType\": 1, \"valueTowardsCompletion\": 0.2, \"interactionType\": 1, \"questionType\": 4, \"questionId\": \"4_AddingBooleans\", \"learnToolsVersion\": \"0.3.4\", \"failureMessage\": \"\", \"exceptionClass\": \"\", \"trace\": \"\"}}, \"*\")"
      ],
      "text/plain": [
       "<IPython.core.display.Javascript object>"
      ]
     },
     "metadata": {},
     "output_type": "display_data"
    },
    {
     "data": {
      "text/markdown": [
       "<span style=\"color:#33cc33\">Correct:</span> \n",
       "\n",
       "When you add booleans, adding `False` is equivalent to adding 0, and adding `True` is equivalent to adding 1."
      ],
      "text/plain": [
       "Correct: \n",
       "\n",
       "When you add booleans, adding `False` is equivalent to adding 0, and adding `True` is equivalent to adding 1."
      ]
     },
     "metadata": {},
     "output_type": "display_data"
    }
   ],
   "source": [
    "# Check your answer (Run this code cell to receive credit!)\n",
    "q4.check()"
   ]
  },
  {
   "cell_type": "markdown",
   "id": "daa0c366",
   "metadata": {
    "papermill": {
     "duration": 0.006444,
     "end_time": "2025-02-26T06:08:18.549780",
     "exception": false,
     "start_time": "2025-02-26T06:08:18.543336",
     "status": "completed"
    },
    "tags": []
   },
   "source": [
    "# 🌶️ Question 5\n",
    "\n",
    "You own an online shop where you sell rings with custom engravings.  You offer both gold plated and solid gold rings.\n",
    "- Gold plated rings have a base cost of \\\\$50, and you charge \\\\$7 per engraved unit.  \n",
    "- Solid gold rings have a base cost of \\\\$100, and you charge \\\\$10 per engraved unit.\n",
    "- Spaces and punctuation are counted as engraved units.\n",
    "\n",
    "Write a function `cost_of_project()` that takes two arguments:\n",
    "- `engraving` - a Python string with the text of the engraving\n",
    "- `solid_gold` - a Boolean that indicates whether the ring is solid gold\n",
    "\n",
    "It should return the cost of the project.  This question should be fairly challenging, and you may need a hint."
   ]
  },
  {
   "cell_type": "code",
   "execution_count": 11,
   "id": "1a5bac96",
   "metadata": {
    "execution": {
     "iopub.execute_input": "2025-02-26T06:08:18.564359Z",
     "iopub.status.busy": "2025-02-26T06:08:18.563981Z",
     "iopub.status.idle": "2025-02-26T06:08:18.572138Z",
     "shell.execute_reply": "2025-02-26T06:08:18.571131Z"
    },
    "papermill": {
     "duration": 0.017493,
     "end_time": "2025-02-26T06:08:18.573920",
     "exception": false,
     "start_time": "2025-02-26T06:08:18.556427",
     "status": "completed"
    },
    "tags": []
   },
   "outputs": [
    {
     "data": {
      "application/javascript": [
       "parent.postMessage({\"jupyterEvent\": \"custom.exercise_interaction\", \"data\": {\"outcomeType\": 1, \"valueTowardsCompletion\": 0.2, \"interactionType\": 1, \"questionType\": 2, \"questionId\": \"5_CustomEngravings\", \"learnToolsVersion\": \"0.3.4\", \"failureMessage\": \"\", \"exceptionClass\": \"\", \"trace\": \"\"}}, \"*\")"
      ],
      "text/plain": [
       "<IPython.core.display.Javascript object>"
      ]
     },
     "metadata": {},
     "output_type": "display_data"
    },
    {
     "data": {
      "text/markdown": [
       "<span style=\"color:#33cc33\">Correct</span>"
      ],
      "text/plain": [
       "Correct"
      ]
     },
     "metadata": {},
     "output_type": "display_data"
    }
   ],
   "source": [
    "def cost_of_project(engraving, solid_gold):\n",
    "    cost = solid_gold * (100 + 10 * len(engraving)) + (not solid_gold) * (50 + 7 * len(engraving)) \n",
    "    return cost\n",
    "\n",
    "# Check your answer\n",
    "q5.check()"
   ]
  },
  {
   "cell_type": "code",
   "execution_count": 12,
   "id": "bc6d2a57",
   "metadata": {
    "execution": {
     "iopub.execute_input": "2025-02-26T06:08:18.589525Z",
     "iopub.status.busy": "2025-02-26T06:08:18.589150Z",
     "iopub.status.idle": "2025-02-26T06:08:18.593381Z",
     "shell.execute_reply": "2025-02-26T06:08:18.592194Z"
    },
    "papermill": {
     "duration": 0.013908,
     "end_time": "2025-02-26T06:08:18.595277",
     "exception": false,
     "start_time": "2025-02-26T06:08:18.581369",
     "status": "completed"
    },
    "tags": []
   },
   "outputs": [],
   "source": [
    "# Uncomment to see a hint\n",
    "#q5.hint()\n",
    "\n",
    "# Uncomment to view the solution\n",
    "#q5.solution()"
   ]
  },
  {
   "cell_type": "markdown",
   "id": "65f7a18f",
   "metadata": {
    "papermill": {
     "duration": 0.006515,
     "end_time": "2025-02-26T06:08:18.608665",
     "exception": false,
     "start_time": "2025-02-26T06:08:18.602150",
     "status": "completed"
    },
    "tags": []
   },
   "source": [
    "Run the next code cell to calculate the cost of engraving `Charlie+Denver` on a solid gold ring."
   ]
  },
  {
   "cell_type": "code",
   "execution_count": 13,
   "id": "47714b70",
   "metadata": {
    "execution": {
     "iopub.execute_input": "2025-02-26T06:08:18.625298Z",
     "iopub.status.busy": "2025-02-26T06:08:18.624908Z",
     "iopub.status.idle": "2025-02-26T06:08:18.630231Z",
     "shell.execute_reply": "2025-02-26T06:08:18.628971Z"
    },
    "papermill": {
     "duration": 0.014954,
     "end_time": "2025-02-26T06:08:18.632005",
     "exception": false,
     "start_time": "2025-02-26T06:08:18.617051",
     "status": "completed"
    },
    "tags": []
   },
   "outputs": [
    {
     "name": "stdout",
     "output_type": "stream",
     "text": [
      "240\n"
     ]
    }
   ],
   "source": [
    "project_one = cost_of_project(\"Charlie+Denver\", True)\n",
    "print(project_one)"
   ]
  },
  {
   "cell_type": "markdown",
   "id": "6cf2b3cc",
   "metadata": {
    "papermill": {
     "duration": 0.006346,
     "end_time": "2025-02-26T06:08:18.645370",
     "exception": false,
     "start_time": "2025-02-26T06:08:18.639024",
     "status": "completed"
    },
    "tags": []
   },
   "source": [
    "Use the next code cell to calculate the cost of engraving `08/10/2000` on a gold plated ring."
   ]
  },
  {
   "cell_type": "code",
   "execution_count": 14,
   "id": "529cffc8",
   "metadata": {
    "execution": {
     "iopub.execute_input": "2025-02-26T06:08:18.660415Z",
     "iopub.status.busy": "2025-02-26T06:08:18.660070Z",
     "iopub.status.idle": "2025-02-26T06:08:18.665452Z",
     "shell.execute_reply": "2025-02-26T06:08:18.664299Z"
    },
    "papermill": {
     "duration": 0.014805,
     "end_time": "2025-02-26T06:08:18.667085",
     "exception": false,
     "start_time": "2025-02-26T06:08:18.652280",
     "status": "completed"
    },
    "tags": []
   },
   "outputs": [
    {
     "name": "stdout",
     "output_type": "stream",
     "text": [
      "120\n"
     ]
    }
   ],
   "source": [
    "project_two = cost_of_project(\"08/10/2000\", False)\n",
    "print(project_two)"
   ]
  },
  {
   "cell_type": "markdown",
   "id": "749065bd",
   "metadata": {
    "papermill": {
     "duration": 0.006546,
     "end_time": "2025-02-26T06:08:18.680886",
     "exception": false,
     "start_time": "2025-02-26T06:08:18.674340",
     "status": "completed"
    },
    "tags": []
   },
   "source": [
    "# Keep going\n",
    "\n",
    "Continue to the next lesson to **[learn about conditions and conditional statements](https://www.kaggle.com/alexisbcook/conditions-and-conditional-statements)**."
   ]
  },
  {
   "cell_type": "markdown",
   "id": "f7a41170",
   "metadata": {
    "papermill": {
     "duration": 0.006516,
     "end_time": "2025-02-26T06:08:18.694309",
     "exception": false,
     "start_time": "2025-02-26T06:08:18.687793",
     "status": "completed"
    },
    "tags": []
   },
   "source": [
    "---\n",
    "\n",
    "\n",
    "\n",
    "\n",
    "*Have questions or comments? Visit the [course discussion forum](https://www.kaggle.com/learn/intro-to-programming/discussion) to chat with other learners.*"
   ]
  }
 ],
 "metadata": {
  "kaggle": {
   "accelerator": "none",
   "dataSources": [],
   "isGpuEnabled": false,
   "isInternetEnabled": false,
   "language": "python",
   "sourceType": "notebook"
  },
  "kernelspec": {
   "display_name": "Python 3",
   "language": "python",
   "name": "python3"
  },
  "language_info": {
   "codemirror_mode": {
    "name": "ipython",
    "version": 3
   },
   "file_extension": ".py",
   "mimetype": "text/x-python",
   "name": "python",
   "nbconvert_exporter": "python",
   "pygments_lexer": "ipython3",
   "version": "3.10.12"
  },
  "papermill": {
   "default_parameters": {},
   "duration": 5.03535,
   "end_time": "2025-02-26T06:08:19.321468",
   "environment_variables": {},
   "exception": null,
   "input_path": "__notebook__.ipynb",
   "output_path": "__notebook__.ipynb",
   "parameters": {},
   "start_time": "2025-02-26T06:08:14.286118",
   "version": "2.3.3"
  }
 },
 "nbformat": 4,
 "nbformat_minor": 5
}
