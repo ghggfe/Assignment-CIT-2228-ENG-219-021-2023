{
 "cells": [
  {
   "cell_type": "markdown",
   "id": "c274d1a7",
   "metadata": {
    "papermill": {
     "duration": 0.004406,
     "end_time": "2025-02-26T06:01:37.668966",
     "exception": false,
     "start_time": "2025-02-26T06:01:37.664560",
     "status": "completed"
    },
    "tags": []
   },
   "source": [
    "**This notebook is an exercise in the [Intro to Programming](https://www.kaggle.com/learn/intro-to-programming) course.  You can reference the tutorial at [this link](https://www.kaggle.com/alexisbcook/functions).**\n",
    "\n",
    "---\n"
   ]
  },
  {
   "cell_type": "markdown",
   "id": "9f6e7ba1",
   "metadata": {
    "papermill": {
     "duration": 0.00317,
     "end_time": "2025-02-26T06:01:37.675690",
     "exception": false,
     "start_time": "2025-02-26T06:01:37.672520",
     "status": "completed"
    },
    "tags": []
   },
   "source": [
    "In the tutorial, you learned about functions. In this exercise, you'll write some of your own!\n",
    "\n",
    "# Set up the notebook\n",
    "\n",
    "Run the next code cell without changes to set up the notebook."
   ]
  },
  {
   "cell_type": "code",
   "execution_count": 1,
   "id": "ce142893",
   "metadata": {
    "execution": {
     "iopub.execute_input": "2025-02-26T06:01:37.683963Z",
     "iopub.status.busy": "2025-02-26T06:01:37.683600Z",
     "iopub.status.idle": "2025-02-26T06:01:39.083760Z",
     "shell.execute_reply": "2025-02-26T06:01:39.082646Z"
    },
    "papermill": {
     "duration": 1.406023,
     "end_time": "2025-02-26T06:01:39.085240",
     "exception": false,
     "start_time": "2025-02-26T06:01:37.679217",
     "status": "completed"
    },
    "tags": []
   },
   "outputs": [
    {
     "name": "stdout",
     "output_type": "stream",
     "text": [
      "Setup complete.\n"
     ]
    }
   ],
   "source": [
    "# Set up the exercise\n",
    "import math\n",
    "from learntools.core import binder\n",
    "binder.bind(globals())\n",
    "from learntools.intro_to_programming.ex2 import *\n",
    "print('Setup complete.')"
   ]
  },
  {
   "cell_type": "markdown",
   "id": "966096a2",
   "metadata": {
    "papermill": {
     "duration": 0.003277,
     "end_time": "2025-02-26T06:01:39.092633",
     "exception": false,
     "start_time": "2025-02-26T06:01:39.089356",
     "status": "completed"
    },
    "tags": []
   },
   "source": [
    "# Question 1\n",
    "\n",
    "In the [House Prices - Advanced Regression Techniques competition](https://www.kaggle.com/c/house-prices-advanced-regression-techniques/overview), you need to use information like the number of bedrooms and bathrooms to predict the price of a house.  Inspired by this competition, you'll write your own function to do this.\n",
    "\n",
    "In the next code cell, create a function `get_expected_cost()` that has two arguments:\n",
    "- `beds` - number of bedrooms \n",
    "- `baths` - number of bathrooms\n",
    "\n",
    "It should return the expected cost of a house with that number of bedrooms and bathrooms.  Assume that:\n",
    "- the expected cost for a house with 0 bedrooms and 0 bathrooms is `80000`.  \n",
    "- each bedroom adds `30000` to the expected cost\n",
    "- each bathroom adds `10000` to the expected cost.\n",
    "\n",
    "For instance, \n",
    "- a house with 1 bedroom and 1 bathroom has an expected cost of `120000`, and \n",
    "- a house with 2 bedrooms and 1 bathroom has an expected cost of `150000`."
   ]
  },
  {
   "cell_type": "markdown",
   "id": "77966741",
   "metadata": {
    "papermill": {
     "duration": 0.003238,
     "end_time": "2025-02-26T06:01:39.099388",
     "exception": false,
     "start_time": "2025-02-26T06:01:39.096150",
     "status": "completed"
    },
    "tags": []
   },
   "source": []
  },
  {
   "cell_type": "code",
   "execution_count": 2,
   "id": "3d6034ef",
   "metadata": {
    "execution": {
     "iopub.execute_input": "2025-02-26T06:01:39.107619Z",
     "iopub.status.busy": "2025-02-26T06:01:39.107104Z",
     "iopub.status.idle": "2025-02-26T06:01:39.117097Z",
     "shell.execute_reply": "2025-02-26T06:01:39.116087Z"
    },
    "papermill": {
     "duration": 0.01556,
     "end_time": "2025-02-26T06:01:39.118376",
     "exception": false,
     "start_time": "2025-02-26T06:01:39.102816",
     "status": "completed"
    },
    "tags": []
   },
   "outputs": [
    {
     "data": {
      "application/javascript": [
       "parent.postMessage({\"jupyterEvent\": \"custom.exercise_interaction\", \"data\": {\"outcomeType\": 1, \"valueTowardsCompletion\": 0.2, \"interactionType\": 1, \"questionType\": 2, \"questionId\": \"1_GetExpectedCost\", \"learnToolsVersion\": \"0.3.4\", \"failureMessage\": \"\", \"exceptionClass\": \"\", \"trace\": \"\"}}, \"*\")"
      ],
      "text/plain": [
       "<IPython.core.display.Javascript object>"
      ]
     },
     "metadata": {},
     "output_type": "display_data"
    },
    {
     "data": {
      "text/markdown": [
       "<span style=\"color:#33cc33\">Correct</span>"
      ],
      "text/plain": [
       "Correct"
      ]
     },
     "metadata": {},
     "output_type": "display_data"
    }
   ],
   "source": [
    "# TODO: Complete the function\n",
    "def get_expected_cost(beds, baths):\n",
    "    value =80000+30000*beds+10000*baths\n",
    "    return value\n",
    "\n",
    "# Check your answer \n",
    "q1.check()"
   ]
  },
  {
   "cell_type": "code",
   "execution_count": 3,
   "id": "4676a1c9",
   "metadata": {
    "execution": {
     "iopub.execute_input": "2025-02-26T06:01:39.127544Z",
     "iopub.status.busy": "2025-02-26T06:01:39.127182Z",
     "iopub.status.idle": "2025-02-26T06:01:39.131002Z",
     "shell.execute_reply": "2025-02-26T06:01:39.129835Z"
    },
    "papermill": {
     "duration": 0.010369,
     "end_time": "2025-02-26T06:01:39.132870",
     "exception": false,
     "start_time": "2025-02-26T06:01:39.122501",
     "status": "completed"
    },
    "tags": []
   },
   "outputs": [],
   "source": [
    " #Uncomment to see a hint\n",
    "#q1.hint()\n",
    "\n",
    " #Uncomment to view the solution\n",
    "#q1.solution()"
   ]
  },
  {
   "cell_type": "markdown",
   "id": "444e7434",
   "metadata": {
    "papermill": {
     "duration": 0.003507,
     "end_time": "2025-02-26T06:01:39.140849",
     "exception": false,
     "start_time": "2025-02-26T06:01:39.137342",
     "status": "completed"
    },
    "tags": []
   },
   "source": [
    "# Question 2\n",
    "\n",
    "You are thinking about buying a home and want to get an idea of how much you will spend, based on the number of bedrooms and bathrooms.  You are trying to decide between four different options:\n",
    "- Option 1: house with two bedrooms and three bathrooms\n",
    "- Option 2: house with three bedrooms and two bathrooms\n",
    "- Option 3: house with three bedrooms and three bathrooms\n",
    "- Option 4: house with three bedrooms and four bathrooms\n",
    "\n",
    "Use the `get_expected_cost()` function you defined in question 1 to set `option_1`, `option_2`, `option_3`, and `option_4` to the expected cost of each option."
   ]
  },
  {
   "cell_type": "code",
   "execution_count": 4,
   "id": "454f01db",
   "metadata": {
    "execution": {
     "iopub.execute_input": "2025-02-26T06:01:39.149529Z",
     "iopub.status.busy": "2025-02-26T06:01:39.149162Z",
     "iopub.status.idle": "2025-02-26T06:01:39.158571Z",
     "shell.execute_reply": "2025-02-26T06:01:39.157508Z"
    },
    "papermill": {
     "duration": 0.015454,
     "end_time": "2025-02-26T06:01:39.159956",
     "exception": false,
     "start_time": "2025-02-26T06:01:39.144502",
     "status": "completed"
    },
    "tags": []
   },
   "outputs": [
    {
     "name": "stdout",
     "output_type": "stream",
     "text": [
      "300\n",
      "600\n",
      "800\n",
      "1000\n"
     ]
    },
    {
     "data": {
      "application/javascript": [
       "parent.postMessage({\"jupyterEvent\": \"custom.exercise_interaction\", \"data\": {\"outcomeType\": 1, \"valueTowardsCompletion\": 0.2, \"interactionType\": 1, \"questionType\": 1, \"questionId\": \"2_RunGetExpectedCost\", \"learnToolsVersion\": \"0.3.4\", \"failureMessage\": \"\", \"exceptionClass\": \"\", \"trace\": \"\"}}, \"*\")"
      ],
      "text/plain": [
       "<IPython.core.display.Javascript object>"
      ]
     },
     "metadata": {},
     "output_type": "display_data"
    },
    {
     "data": {
      "text/markdown": [
       "<span style=\"color:#33cc33\">Correct</span>"
      ],
      "text/plain": [
       "Correct"
      ]
     },
     "metadata": {},
     "output_type": "display_data"
    }
   ],
   "source": [
    "# TODO: Use the get_expected_cost function to fill in each value\n",
    "option_one =  get_expected_cost(2, 3)\n",
    "option_two =  get_expected_cost(3, 2)\n",
    "option_three = get_expected_cost(3, 3)\n",
    "option_four = get_expected_cost(3, 4)\n",
    "\n",
    "print(300)\n",
    "print(600)\n",
    "print(800)\n",
    "print(1000)\n",
    "\n",
    "# Check your answer\n",
    "q2.check()"
   ]
  },
  {
   "cell_type": "code",
   "execution_count": 5,
   "id": "81ac1ea7",
   "metadata": {
    "execution": {
     "iopub.execute_input": "2025-02-26T06:01:39.169538Z",
     "iopub.status.busy": "2025-02-26T06:01:39.169174Z",
     "iopub.status.idle": "2025-02-26T06:01:39.172248Z",
     "shell.execute_reply": "2025-02-26T06:01:39.171565Z"
    },
    "papermill": {
     "duration": 0.009339,
     "end_time": "2025-02-26T06:01:39.173857",
     "exception": false,
     "start_time": "2025-02-26T06:01:39.164518",
     "status": "completed"
    },
    "tags": []
   },
   "outputs": [],
   "source": [
    "# Uncomment to see a hint\n",
    "#q2.hint()\n",
    "\n",
    "# Uncomment to view the solution\n",
    "#q2.solution()"
   ]
  },
  {
   "cell_type": "markdown",
   "id": "be15189f",
   "metadata": {
    "papermill": {
     "duration": 0.003633,
     "end_time": "2025-02-26T06:01:39.181835",
     "exception": false,
     "start_time": "2025-02-26T06:01:39.178202",
     "status": "completed"
    },
    "tags": []
   },
   "source": [
    "# Question 3\n",
    "\n",
    "You're a home decorator, and you'd like to use Python to streamline some of your work.  Specifically, you're creating a tool that you intend to use to calculate the cost of painting a room.\n",
    "\n",
    "As a first step, define a function `get_cost()` that takes as input:\n",
    "- `sqft_walls` = total square feet of walls to be painted\n",
    "- `sqft_ceiling` = square feet of ceiling to be painted\n",
    "- `sqft_per_gallon` = number of square feet that you can cover with one gallon of paint\n",
    "- `cost_per_gallon` = cost (in dollars) of one gallon of paint\n",
    "\n",
    "It should return the cost (in dollars) of putting one coat of paint on all walls and the ceiling.  Assume you can buy the exact amount of paint that you need, so you can buy partial gallons (e.g., if you need 7.523 gallons, you can buy that exact amount, instead of needing to buy 8 gallons and waste some paint).  Do not round your answer."
   ]
  },
  {
   "cell_type": "code",
   "execution_count": 6,
   "id": "b9f9f821",
   "metadata": {
    "execution": {
     "iopub.execute_input": "2025-02-26T06:01:39.190662Z",
     "iopub.status.busy": "2025-02-26T06:01:39.190386Z",
     "iopub.status.idle": "2025-02-26T06:01:39.196691Z",
     "shell.execute_reply": "2025-02-26T06:01:39.195496Z"
    },
    "papermill": {
     "duration": 0.012654,
     "end_time": "2025-02-26T06:01:39.198414",
     "exception": false,
     "start_time": "2025-02-26T06:01:39.185760",
     "status": "completed"
    },
    "tags": []
   },
   "outputs": [
    {
     "data": {
      "application/javascript": [
       "parent.postMessage({\"jupyterEvent\": \"custom.exercise_interaction\", \"data\": {\"outcomeType\": 1, \"valueTowardsCompletion\": 0.2, \"interactionType\": 1, \"questionType\": 2, \"questionId\": \"3_GetCostPaint\", \"learnToolsVersion\": \"0.3.4\", \"failureMessage\": \"\", \"exceptionClass\": \"\", \"trace\": \"\"}}, \"*\")"
      ],
      "text/plain": [
       "<IPython.core.display.Javascript object>"
      ]
     },
     "metadata": {},
     "output_type": "display_data"
    },
    {
     "data": {
      "text/markdown": [
       "<span style=\"color:#33cc33\">Correct</span>"
      ],
      "text/plain": [
       "Correct"
      ]
     },
     "metadata": {},
     "output_type": "display_data"
    }
   ],
   "source": [
    "# TODO: Finish defining the function\n",
    "def get_cost(sqft_walls, sqft_ceiling, sqft_per_gallon, cost_per_gallon):\n",
    "    total_sqft = sqft_walls + sqft_ceiling\n",
    "    gallons_needed = total_sqft / sqft_per_gallon\n",
    "    cost = cost_per_gallon * gallons_needed\n",
    "    return cost\n",
    "\n",
    "# Check your answer\n",
    "q3.check()"
   ]
  },
  {
   "cell_type": "code",
   "execution_count": 7,
   "id": "a3e8865c",
   "metadata": {
    "execution": {
     "iopub.execute_input": "2025-02-26T06:01:39.208505Z",
     "iopub.status.busy": "2025-02-26T06:01:39.208158Z",
     "iopub.status.idle": "2025-02-26T06:01:39.212397Z",
     "shell.execute_reply": "2025-02-26T06:01:39.211049Z"
    },
    "papermill": {
     "duration": 0.011204,
     "end_time": "2025-02-26T06:01:39.214362",
     "exception": false,
     "start_time": "2025-02-26T06:01:39.203158",
     "status": "completed"
    },
    "tags": []
   },
   "outputs": [],
   "source": [
    "# Uncomment to see a hint\n",
    "#q3.hint()\n",
    "\n",
    "# Uncomment to view the solution\n",
    "#q3.solution()"
   ]
  },
  {
   "cell_type": "markdown",
   "id": "c7602668",
   "metadata": {
    "papermill": {
     "duration": 0.003832,
     "end_time": "2025-02-26T06:01:39.222959",
     "exception": false,
     "start_time": "2025-02-26T06:01:39.219127",
     "status": "completed"
    },
    "tags": []
   },
   "source": [
    "# Question 4\n",
    "\n",
    "Use the `get_cost()` function you defined in Question 3 to calculate the cost of applying one coat of paint to a room with:\n",
    "- 432 square feet of walls, and\n",
    "- 144 square feet of ceiling.\n",
    "\n",
    "Assume that one gallon of paint covers 400 square feet and costs $15.  As in Question 3, assume you can buy partial gallons of paint.  Do not round your answer."
   ]
  },
  {
   "cell_type": "code",
   "execution_count": 8,
   "id": "8f677ad5",
   "metadata": {
    "execution": {
     "iopub.execute_input": "2025-02-26T06:01:39.232384Z",
     "iopub.status.busy": "2025-02-26T06:01:39.231976Z",
     "iopub.status.idle": "2025-02-26T06:01:39.238903Z",
     "shell.execute_reply": "2025-02-26T06:01:39.237665Z"
    },
    "papermill": {
     "duration": 0.013224,
     "end_time": "2025-02-26T06:01:39.240202",
     "exception": false,
     "start_time": "2025-02-26T06:01:39.226978",
     "status": "completed"
    },
    "tags": []
   },
   "outputs": [
    {
     "data": {
      "application/javascript": [
       "parent.postMessage({\"jupyterEvent\": \"custom.exercise_interaction\", \"data\": {\"outcomeType\": 1, \"valueTowardsCompletion\": 0.2, \"interactionType\": 1, \"questionType\": 1, \"questionId\": \"4_GetCostPaintExample\", \"learnToolsVersion\": \"0.3.4\", \"failureMessage\": \"\", \"exceptionClass\": \"\", \"trace\": \"\"}}, \"*\")"
      ],
      "text/plain": [
       "<IPython.core.display.Javascript object>"
      ]
     },
     "metadata": {},
     "output_type": "display_data"
    },
    {
     "data": {
      "text/markdown": [
       "<span style=\"color:#33cc33\">Correct</span>"
      ],
      "text/plain": [
       "Correct"
      ]
     },
     "metadata": {},
     "output_type": "display_data"
    }
   ],
   "source": [
    "# TODO: Set the project_cost variable to the cost of the project\n",
    "project_cost = get_cost(432, 144, 400, 15)\n",
    "\n",
    "# Check your answer\n",
    "q4.check()"
   ]
  },
  {
   "cell_type": "code",
   "execution_count": 9,
   "id": "3f271cf0",
   "metadata": {
    "execution": {
     "iopub.execute_input": "2025-02-26T06:01:39.250241Z",
     "iopub.status.busy": "2025-02-26T06:01:39.249871Z",
     "iopub.status.idle": "2025-02-26T06:01:39.257428Z",
     "shell.execute_reply": "2025-02-26T06:01:39.256170Z"
    },
    "papermill": {
     "duration": 0.014384,
     "end_time": "2025-02-26T06:01:39.259190",
     "exception": false,
     "start_time": "2025-02-26T06:01:39.244806",
     "status": "completed"
    },
    "tags": []
   },
   "outputs": [
    {
     "data": {
      "application/javascript": [
       "parent.postMessage({\"jupyterEvent\": \"custom.exercise_interaction\", \"data\": {\"interactionType\": 3, \"questionType\": 1, \"questionId\": \"4_GetCostPaintExample\", \"learnToolsVersion\": \"0.3.4\", \"valueTowardsCompletion\": 0.0, \"failureMessage\": \"\", \"exceptionClass\": \"\", \"trace\": \"\", \"outcomeType\": 4}}, \"*\")"
      ],
      "text/plain": [
       "<IPython.core.display.Javascript object>"
      ]
     },
     "metadata": {},
     "output_type": "display_data"
    },
    {
     "data": {
      "text/markdown": [
       "<span style=\"color:#33cc99\">Solution:</span> \n",
       "```python\n",
       "# Set the project_cost variable to the cost of the project\n",
       "project_cost = get_cost(432, 144, 400, 15) \n",
       "\n",
       "```"
      ],
      "text/plain": [
       "Solution: \n",
       "```python\n",
       "# Set the project_cost variable to the cost of the project\n",
       "project_cost = get_cost(432, 144, 400, 15) \n",
       "\n",
       "```"
      ]
     },
     "metadata": {},
     "output_type": "display_data"
    }
   ],
   "source": [
    "# Uncomment to see a hint\n",
    "#q4.hint()\n",
    "\n",
    "# Uncomment to view the solution\n",
    "q4.solution()"
   ]
  },
  {
   "cell_type": "markdown",
   "id": "c32dc908",
   "metadata": {
    "papermill": {
     "duration": 0.003957,
     "end_time": "2025-02-26T06:01:39.267893",
     "exception": false,
     "start_time": "2025-02-26T06:01:39.263936",
     "status": "completed"
    },
    "tags": []
   },
   "source": [
    "# 🌶️ Question 5\n",
    "\n",
    "Now say you can no longer buy fractions of a gallon.  (For instance, if you need 4.3 gallons to do a project, then you have to buy 5 gallons of paint.)\n",
    "\n",
    "With this new scenario, you will create a new function `get_actual_cost` that uses the same inputs and calculates the cost of your project.\n",
    "\n",
    "One function that you'll need to use to do this is `math.ceil()`.  We demonstrate usage of this function in the code cell below.  It takes as a number as input and rounds the number up to the nearest integer.  \n",
    "\n",
    "Run the next code cell to test this function for yourself.  Feel free to change the value of `test_value` and make sure `math.ceil()` returns the number you expect."
   ]
  },
  {
   "cell_type": "code",
   "execution_count": 10,
   "id": "bfb83c94",
   "metadata": {
    "execution": {
     "iopub.execute_input": "2025-02-26T06:01:39.277561Z",
     "iopub.status.busy": "2025-02-26T06:01:39.277191Z",
     "iopub.status.idle": "2025-02-26T06:01:39.281471Z",
     "shell.execute_reply": "2025-02-26T06:01:39.280577Z"
    },
    "papermill": {
     "duration": 0.010488,
     "end_time": "2025-02-26T06:01:39.282518",
     "exception": false,
     "start_time": "2025-02-26T06:01:39.272030",
     "status": "completed"
    },
    "tags": []
   },
   "outputs": [
    {
     "name": "stdout",
     "output_type": "stream",
     "text": [
      "3\n"
     ]
    }
   ],
   "source": [
    "test_value = 2.17\n",
    "\n",
    "rounded_value = math.ceil(test_value)\n",
    "print(rounded_value)"
   ]
  },
  {
   "cell_type": "markdown",
   "id": "634090c1",
   "metadata": {
    "papermill": {
     "duration": 0.003903,
     "end_time": "2025-02-26T06:01:39.290706",
     "exception": false,
     "start_time": "2025-02-26T06:01:39.286803",
     "status": "completed"
    },
    "tags": []
   },
   "source": [
    "Use the next code cell to define the function `get_actual_cost()`.  You'll need to use the `math.ceil()` function to do this.\n",
    "\n",
    "When answering this question, note that it's completely valid to define a function that makes use of another function.  For instance, we can define a function `round_up_and_divide_by_three` that makes use of the `math.ceil` function:\n",
    "```\n",
    "def round_up_and_divide_by_three(num):\n",
    "    new_value = math.ceil(num)\n",
    "    final_value = new_value / 3\n",
    "    return final_value\n",
    "```"
   ]
  },
  {
   "cell_type": "code",
   "execution_count": 11,
   "id": "0b67b921",
   "metadata": {
    "execution": {
     "iopub.execute_input": "2025-02-26T06:01:39.300117Z",
     "iopub.status.busy": "2025-02-26T06:01:39.299830Z",
     "iopub.status.idle": "2025-02-26T06:01:39.306043Z",
     "shell.execute_reply": "2025-02-26T06:01:39.305329Z"
    },
    "papermill": {
     "duration": 0.012139,
     "end_time": "2025-02-26T06:01:39.307071",
     "exception": false,
     "start_time": "2025-02-26T06:01:39.294932",
     "status": "completed"
    },
    "tags": []
   },
   "outputs": [
    {
     "data": {
      "application/javascript": [
       "parent.postMessage({\"jupyterEvent\": \"custom.exercise_interaction\", \"data\": {\"outcomeType\": 1, \"valueTowardsCompletion\": 0.2, \"interactionType\": 1, \"questionType\": 2, \"questionId\": \"5_NoMoreFractions\", \"learnToolsVersion\": \"0.3.4\", \"failureMessage\": \"\", \"exceptionClass\": \"\", \"trace\": \"\"}}, \"*\")"
      ],
      "text/plain": [
       "<IPython.core.display.Javascript object>"
      ]
     },
     "metadata": {},
     "output_type": "display_data"
    },
    {
     "data": {
      "text/markdown": [
       "<span style=\"color:#33cc33\">Correct</span>"
      ],
      "text/plain": [
       "Correct"
      ]
     },
     "metadata": {},
     "output_type": "display_data"
    }
   ],
   "source": [
    "def get_actual_cost(sqft_walls, sqft_ceiling, sqft_per_gallon, cost_per_gallon):\n",
    "    total_sqft = sqft_walls + sqft_ceiling\n",
    "    gallons_needed = total_sqft / sqft_per_gallon\n",
    "    gallons_to_buy = math.ceil(gallons_needed)\n",
    "    cost = cost_per_gallon * gallons_to_buy\n",
    "    return cost\n",
    "\n",
    "# Check your answer\n",
    "q5.check()"
   ]
  },
  {
   "cell_type": "code",
   "execution_count": 12,
   "id": "6961b16d",
   "metadata": {
    "execution": {
     "iopub.execute_input": "2025-02-26T06:01:39.317145Z",
     "iopub.status.busy": "2025-02-26T06:01:39.316859Z",
     "iopub.status.idle": "2025-02-26T06:01:39.320416Z",
     "shell.execute_reply": "2025-02-26T06:01:39.319312Z"
    },
    "papermill": {
     "duration": 0.009885,
     "end_time": "2025-02-26T06:01:39.321624",
     "exception": false,
     "start_time": "2025-02-26T06:01:39.311739",
     "status": "completed"
    },
    "tags": []
   },
   "outputs": [],
   "source": [
    "# Uncomment to see a hint\n",
    "#q5.hint()\n",
    "\n",
    "# Uncomment to view the solution\n",
    "#q5.solution()"
   ]
  },
  {
   "cell_type": "markdown",
   "id": "85c5ef1a",
   "metadata": {
    "papermill": {
     "duration": 0.004052,
     "end_time": "2025-02-26T06:01:39.330127",
     "exception": false,
     "start_time": "2025-02-26T06:01:39.326075",
     "status": "completed"
    },
    "tags": []
   },
   "source": [
    "Once your function is verified as correct, run the next code cell to calculate the updated cost of your project."
   ]
  },
  {
   "cell_type": "code",
   "execution_count": 13,
   "id": "a6ca2967",
   "metadata": {
    "execution": {
     "iopub.execute_input": "2025-02-26T06:01:39.340712Z",
     "iopub.status.busy": "2025-02-26T06:01:39.340387Z",
     "iopub.status.idle": "2025-02-26T06:01:39.346417Z",
     "shell.execute_reply": "2025-02-26T06:01:39.345132Z"
    },
    "papermill": {
     "duration": 0.013848,
     "end_time": "2025-02-26T06:01:39.348252",
     "exception": false,
     "start_time": "2025-02-26T06:01:39.334404",
     "status": "completed"
    },
    "tags": []
   },
   "outputs": [
    {
     "data": {
      "text/plain": [
       "30"
      ]
     },
     "execution_count": 13,
     "metadata": {},
     "output_type": "execute_result"
    }
   ],
   "source": [
    "get_actual_cost(432, 144, 400, 15) "
   ]
  },
  {
   "cell_type": "markdown",
   "id": "774dd8ba",
   "metadata": {
    "papermill": {
     "duration": 0.004321,
     "end_time": "2025-02-26T06:01:39.357960",
     "exception": false,
     "start_time": "2025-02-26T06:01:39.353639",
     "status": "completed"
    },
    "tags": []
   },
   "source": [
    "Say you're working with a slightly larger room.  Run the next code cell to calculate the cost of the project."
   ]
  },
  {
   "cell_type": "code",
   "execution_count": 14,
   "id": "e08a53d5",
   "metadata": {
    "execution": {
     "iopub.execute_input": "2025-02-26T06:01:39.367783Z",
     "iopub.status.busy": "2025-02-26T06:01:39.367511Z",
     "iopub.status.idle": "2025-02-26T06:01:39.372846Z",
     "shell.execute_reply": "2025-02-26T06:01:39.371916Z"
    },
    "papermill": {
     "duration": 0.012252,
     "end_time": "2025-02-26T06:01:39.374617",
     "exception": false,
     "start_time": "2025-02-26T06:01:39.362365",
     "status": "completed"
    },
    "tags": []
   },
   "outputs": [
    {
     "data": {
      "text/plain": [
       "45"
      ]
     },
     "execution_count": 14,
     "metadata": {},
     "output_type": "execute_result"
    }
   ],
   "source": [
    "get_actual_cost(594, 288, 400, 15) "
   ]
  },
  {
   "cell_type": "markdown",
   "id": "fd24aec1",
   "metadata": {
    "papermill": {
     "duration": 0.004355,
     "end_time": "2025-02-26T06:01:39.384502",
     "exception": false,
     "start_time": "2025-02-26T06:01:39.380147",
     "status": "completed"
    },
    "tags": []
   },
   "source": [
    "# Keep going\n",
    "\n",
    "Continue to learn about **[data types](https://www.kaggle.com/alexisbcook/data-types)**."
   ]
  },
  {
   "cell_type": "markdown",
   "id": "45213dc8",
   "metadata": {
    "papermill": {
     "duration": 0.004437,
     "end_time": "2025-02-26T06:01:39.393622",
     "exception": false,
     "start_time": "2025-02-26T06:01:39.389185",
     "status": "completed"
    },
    "tags": []
   },
   "source": [
    "---\n",
    "\n",
    "\n",
    "\n",
    "\n",
    "*Have questions or comments? Visit the [course discussion forum](https://www.kaggle.com/learn/intro-to-programming/discussion) to chat with other learners.*"
   ]
  }
 ],
 "metadata": {
  "kaggle": {
   "accelerator": "none",
   "dataSources": [],
   "isGpuEnabled": false,
   "isInternetEnabled": false,
   "language": "python",
   "sourceType": "notebook"
  },
  "kernelspec": {
   "display_name": "Python 3",
   "language": "python",
   "name": "python3"
  },
  "language_info": {
   "codemirror_mode": {
    "name": "ipython",
    "version": 3
   },
   "file_extension": ".py",
   "mimetype": "text/x-python",
   "name": "python",
   "nbconvert_exporter": "python",
   "pygments_lexer": "ipython3",
   "version": "3.10.12"
  },
  "papermill": {
   "default_parameters": {},
   "duration": 4.950745,
   "end_time": "2025-02-26T06:01:40.019921",
   "environment_variables": {},
   "exception": null,
   "input_path": "__notebook__.ipynb",
   "output_path": "__notebook__.ipynb",
   "parameters": {},
   "start_time": "2025-02-26T06:01:35.069176",
   "version": "2.6.0"
  }
 },
 "nbformat": 4,
 "nbformat_minor": 5
}
